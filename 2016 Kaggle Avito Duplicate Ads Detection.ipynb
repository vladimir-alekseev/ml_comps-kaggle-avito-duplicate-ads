{
 "cells": [
  {
   "cell_type": "code",
   "execution_count": 4,
   "metadata": {
    "collapsed": false
   },
   "outputs": [],
   "source": [
    "%precision 4\n",
    "import numpy as np\n",
    "import pandas as pd\n",
    "pd.set_option(\"display.max_colwidth\", 100)\n",
    "pd.set_option(\"precision\", 4)\n",
    "\n",
    "import datetime\n",
    "import time\n",
    "\n",
    "import matplotlib.pyplot as pyplot\n",
    "%matplotlib inline\n",
    "\n",
    "import xgboost as xgb\n",
    "from sklearn.cross_validation import train_test_split\n",
    "from sklearn.metrics import roc_auc_score, confusion_matrix\n",
    "\n",
    "import nltk\n",
    "from nltk.stem.snowball import SnowballStemmer\n",
    "\n",
    "import random\n",
    "random.seed(42)\n",
    "RANDOM_STATE = 42\n",
    "\n",
    "import gc\n",
    "\n",
    "import re\n",
    "import distance\n",
    "import json"
   ]
  },
  {
   "cell_type": "markdown",
   "metadata": {},
   "source": [
    "### Загружаем и чистим данные"
   ]
  },
  {
   "cell_type": "code",
   "execution_count": 5,
   "metadata": {
    "collapsed": true
   },
   "outputs": [],
   "source": [
    "def merge_pairs_info(pairs, item_info):    \n",
    "    merged_data = pairs\n",
    "    \n",
    "    for item_id in [1,2]:\n",
    "        item_data = item_info[\n",
    "            ['itemID',\n",
    "             'categoryID',\n",
    "             \"title\",\n",
    "             \"description\",\n",
    "             \"images_array\",\n",
    "             \"attrsJSON\",\n",
    "             'price',\n",
    "             'locationID',\n",
    "             'metroID',\n",
    "             'lat',\n",
    "             'lon', \n",
    "            ]\n",
    "        ]\n",
    "\n",
    "        item_data = pd.merge(item_data, category_info, how=\"left\", on=\"categoryID\", left_index=True)\n",
    "        item_data = pd.merge(item_data, location_info, how=\"left\", on=\"locationID\", left_index=True)\n",
    "        item_data = item_data.rename(\n",
    "            columns={\n",
    "                'itemID': 'itemID_'+str(item_id),\n",
    "                'categoryID': 'categoryID_'+str(item_id),\n",
    "                'parentCategoryID': 'parentCategoryID_'+str(item_id),\n",
    "                \"title\": \"title_\"+str(item_id),\n",
    "                \"description\": \"description_\"+str(item_id),\n",
    "                \"images_array\": \"images_array_\"+str(item_id),\n",
    "                \"attrsJSON\": \"attrsJSON_\"+str(item_id),\n",
    "                'price': 'price_'+str(item_id),\n",
    "                'locationID': 'locationID_'+str(item_id),\n",
    "                'regionID': 'regionID_'+str(item_id),\n",
    "                'metroID': 'metroID_'+str(item_id),\n",
    "                'lat': 'lat_'+str(item_id),\n",
    "                'lon': 'lon_'+str(item_id),\n",
    "            }\n",
    "        )\n",
    "\n",
    "        merged_data = pd.merge(merged_data, item_data, how=\"left\", on=\"itemID_\"+str(item_id), left_index=True)\n",
    "\n",
    "    del item_data\n",
    "    gc.collect()\n",
    "    \n",
    "    return merged_data"
   ]
  },
  {
   "cell_type": "code",
   "execution_count": 6,
   "metadata": {
    "collapsed": true
   },
   "outputs": [],
   "source": [
    "TYPES_PAIRS_TRAIN = {\n",
    "    'itemID_1': np.dtype(int),\n",
    "    'itemID_2': np.dtype(int),\n",
    "    'isDuplicate': np.dtype(int),\n",
    "    'generationMethod': np.dtype(int),\n",
    "}\n",
    "\n",
    "TYPES_PAIRS_TEST = {\n",
    "    'itemID_1': np.dtype(int),\n",
    "    'itemID_2': np.dtype(int),\n",
    "    'id': np.dtype(int)\n",
    "}\n",
    "\n",
    "TYPES_ITEM_INFO = {\n",
    "    'itemID': np.dtype(int),\n",
    "    'categoryID': np.dtype(int),\n",
    "    'title': np.dtype(str),\n",
    "    'description': np.dtype(str),\n",
    "    'images_array': np.dtype(str),\n",
    "    'attrsJSON': np.dtype(str),\n",
    "    'price': np.dtype(float),\n",
    "    'locationID': np.dtype(int),\n",
    "    'metroID': np.dtype(float),\n",
    "    'lat': np.dtype(float),\n",
    "    'lon': np.dtype(float),\n",
    "}\n",
    "\n",
    "category_info = pd.read_csv(\"data\\Category.csv\")\n",
    "location_info = pd.read_csv(\"data\\Location.csv\")"
   ]
  },
  {
   "cell_type": "code",
   "execution_count": 7,
   "metadata": {
    "collapsed": false
   },
   "outputs": [
    {
     "name": "stdout",
     "output_type": "stream",
     "text": [
      "Training: loading data...\n",
      "Training: loading completed in 75.0 seconds\n",
      "Test: loading data...\n",
      "Test: loading completed in 25.0 seconds\n"
     ]
    }
   ],
   "source": [
    "start_time = time.time()\n",
    "print(\"Training: loading data...\")\n",
    "item_info_train = pd.read_csv(\"data\\ItemInfo_train.csv\", dtype=TYPES_ITEM_INFO)\n",
    "item_info_train.fillna(value={\n",
    "    'itemID': -1,\n",
    "    'categoryID': -1,\n",
    "    'title': \"\",\n",
    "    'description': \"\",\n",
    "    'images_array': \"\",\n",
    "    'attrsJSON': \"\",\n",
    "    'price': -1.0,\n",
    "    'locationID': -1,\n",
    "    'metroID': -1.0,\n",
    "    'lat': -1.0,\n",
    "    'lon': -1.0,\n",
    "    }, inplace=True)\n",
    "train_data = pd.read_csv(\"data\\ItemPairs_train.csv\", dtype=TYPES_PAIRS_TRAIN)\n",
    "train_data = merge_pairs_info(pairs=train_data, item_info=item_info_train)\n",
    "del item_info_train\n",
    "gc.collect()\n",
    "print(\"Training: loading completed in {} seconds\".format(round(time.time() - start_time, 0)))\n",
    "\n",
    "start_time = time.time()\n",
    "print(\"Test: loading data...\")\n",
    "item_info_test = pd.read_csv(\"data\\ItemInfo_test.csv\", dtype=TYPES_ITEM_INFO)\n",
    "item_info_test.fillna(value={\n",
    "    'itemID': -1,\n",
    "    'categoryID': -1,\n",
    "    'title': \"\",\n",
    "    'description': \"\",\n",
    "    'images_array': \"\",\n",
    "    'attrsJSON': \"\",\n",
    "    'price': -1.0,\n",
    "    'locationID': -1,\n",
    "    'metroID': -1.0,\n",
    "    'lat': -1.0,\n",
    "    'lon': -1.0,\n",
    "    }, inplace=True)\n",
    "test_data = pd.read_csv(\"data\\ItemPairs_test.csv\", dtype=TYPES_PAIRS_TEST)\n",
    "test_data = merge_pairs_info(pairs=test_data, item_info=item_info_test)\n",
    "del item_info_test\n",
    "gc.collect()\n",
    "print(\"Test: loading completed in {} seconds\".format(round(time.time() - start_time, 0)))"
   ]
  },
  {
   "cell_type": "code",
   "execution_count": 8,
   "metadata": {
    "collapsed": false,
    "scrolled": true
   },
   "outputs": [
    {
     "name": "stdout",
     "output_type": "stream",
     "text": [
      "Image hashes: loading part 0\n",
      "Image hashes: loading part 1\n",
      "Image hashes: loading part 2\n",
      "Image hashes: loading part 3\n",
      "Image hashes: loading part 4\n",
      "Image hashes: loading part 5\n",
      "Image hashes: loading part 6\n",
      "Image hashes: loading part 7\n",
      "Image hashes: loading part 8\n",
      "Image hashes: loading part 9\n",
      "Image hashes: loading part 10\n",
      "Image hashes: loading completed in 66.0 seconds\n"
     ]
    }
   ],
   "source": [
    "image_hashes = {}\n",
    "start_time = time.time()\n",
    "for part_id in range(0,11):\n",
    "    print(\"Image hashes: loading part \"+str(part_id))\n",
    "    hashes_part = pd.read_csv(\"data\\image_hashes_\"+str(part_id)+\".csv\",\n",
    "                            names=[\"index\",\"images_id\",\"image_hash\"],\n",
    "                            index_col=1,\n",
    "                            skiprows=[0],\n",
    "                            dtype={\"index\": np.dtype(int), \"image_id\": np.dtype(str), \"image_hash\": np.dtype(str)}\n",
    "                           ).drop([\"index\"],axis=1)\n",
    "    for image_id, image_hash in hashes_part.itertuples():\n",
    "        image_hashes[image_id.rsplit('/', 1)[-1]] = image_hash\n",
    "    del hashes_part\n",
    "    gc.collect()\n",
    "\n",
    "gc.collect()\n",
    "\n",
    "print(\"Image hashes: loading completed in {} seconds\".format(round(time.time() - start_time, 0)))"
   ]
  },
  {
   "cell_type": "code",
   "execution_count": 9,
   "metadata": {
    "collapsed": false
   },
   "outputs": [
    {
     "name": "stdout",
     "output_type": "stream",
     "text": [
      "Image whashes: loading completed in 7.0 seconds\n"
     ]
    }
   ],
   "source": [
    "start_time = time.time()\n",
    "import pickle\n",
    "image_whashes = pickle.load(open(\"data\\whash_haar.pkl\",\"rb\"))\n",
    "print(\"Image whashes: loading completed in {} seconds\".format(round(time.time() - start_time, 0)))"
   ]
  },
  {
   "cell_type": "markdown",
   "metadata": {},
   "source": [
    "### Готовим признаки"
   ]
  },
  {
   "cell_type": "markdown",
   "metadata": {},
   "source": [
    "#### Задаём вспомогательные функции"
   ]
  },
  {
   "cell_type": "markdown",
   "metadata": {},
   "source": [
    "Общее"
   ]
  },
  {
   "cell_type": "code",
   "execution_count": 10,
   "metadata": {
    "collapsed": true
   },
   "outputs": [],
   "source": [
    "debug = False"
   ]
  },
  {
   "cell_type": "code",
   "execution_count": 11,
   "metadata": {
    "collapsed": true
   },
   "outputs": [],
   "source": [
    "def jaccard_index(set1, set2):\n",
    "    if len(set1) == 0 and len(set2) == 0:\n",
    "        return 0.0\n",
    "    \n",
    "    if debug: print(set1, set2)\n",
    "    if debug: print(set1.intersection(set2), set1.union(set2))\n",
    "    return len(set1.intersection(set2)) / float(len(set1.union(set2)))"
   ]
  },
  {
   "cell_type": "markdown",
   "metadata": {},
   "source": [
    "Работа со строками"
   ]
  },
  {
   "cell_type": "code",
   "execution_count": 12,
   "metadata": {
    "collapsed": true
   },
   "outputs": [],
   "source": [
    "stemmer_russian = SnowballStemmer(language=\"russian\", ignore_stopwords=True)\n",
    "stemmer_english = SnowballStemmer(language=\"english\", ignore_stopwords=True)"
   ]
  },
  {
   "cell_type": "code",
   "execution_count": 13,
   "metadata": {
    "collapsed": false
   },
   "outputs": [],
   "source": [
    "stopwords_russian = [word for word in nltk.corpus.stopwords.words(\"russian\") if word!=\"не\"]\n",
    "stopwords_english = [word for word in nltk.corpus.stopwords.words(\"english\")]\n",
    "stopwords = stopwords_russian + stopwords_english"
   ]
  },
  {
   "cell_type": "code",
   "execution_count": 14,
   "metadata": {
    "collapsed": false
   },
   "outputs": [],
   "source": [
    "def jaccard_string(string1, string2):    \n",
    "    list1 = re.findall(\"[\\w']{2,}\", string1.lower().replace(\"ё\",\"е\"))\n",
    "    list2 = re.findall(\"[\\w']{2,}\", string2.lower().replace(\"ё\",\"е\"))\n",
    "    \n",
    "    if len(list1) == 0 and len(list2) == 0:\n",
    "        return 0.0\n",
    "    \n",
    "    set1 = stem_strings(list1)\n",
    "    set2 = stem_strings(list2)\n",
    "    \n",
    "    return jaccard_index(set1, set2)\n",
    "jaccard_string_vectorized = np.vectorize(jaccard_string)\n",
    "\n",
    "def stem_strings(word_list):\n",
    "    word_set = set()\n",
    "    for element in word_list:\n",
    "        if element not in stopwords:\n",
    "            if not re.search(\"[0-9a-z]\", element):\n",
    "                stemmed_element = stemmer_russian.stem(element) \n",
    "            else:\n",
    "                stemmed_element = stemmer_english.stem(element) \n",
    "            word_set.add(stemmed_element)\n",
    "    return word_set"
   ]
  },
  {
   "cell_type": "markdown",
   "metadata": {},
   "source": [
    "Работа с JSON"
   ]
  },
  {
   "cell_type": "code",
   "execution_count": 15,
   "metadata": {
    "collapsed": true
   },
   "outputs": [],
   "source": [
    "def JSON_values_count(JSON_string):\n",
    "    if len(JSON_string) == 0:\n",
    "        return 0\n",
    "    return len(json.loads(JSON_string).values())\n",
    "JSON_values_count_vectorized = np.vectorize(JSON_values_count)"
   ]
  },
  {
   "cell_type": "code",
   "execution_count": 16,
   "metadata": {
    "collapsed": true
   },
   "outputs": [],
   "source": [
    "def jaccard_JSON(JSON_string1, JSON_string2):\n",
    "    if len(JSON_string1) == 0 and len(JSON_string2) == 0:\n",
    "        return 0.0\n",
    "    \n",
    "    if len(JSON_string1) != 0:\n",
    "        JSON_set1 = set(json.loads(JSON_string1).items())\n",
    "    else:\n",
    "        JSON_set1 = set()\n",
    "    \n",
    "    if len(JSON_string2) != 0:\n",
    "        JSON_set2 = set(json.loads(JSON_string2).items())\n",
    "    else:\n",
    "        JSON_set2 = set()\n",
    "        \n",
    "    return jaccard_index(JSON_set1, JSON_set2)\n",
    "jaccard_JSON_vectorized = np.vectorize(jaccard_JSON)"
   ]
  },
  {
   "cell_type": "markdown",
   "metadata": {},
   "source": [
    "Работа с хэшами изображений"
   ]
  },
  {
   "cell_type": "code",
   "execution_count": 17,
   "metadata": {
    "collapsed": true
   },
   "outputs": [],
   "source": [
    "def hDist(s1, s2):\n",
    "    s1, s2 = str(s1), str(s2)\n",
    "    return sum(bool(ord(ch1) - ord(ch2)) for ch1, ch2 in zip(s1, s2))"
   ]
  },
  {
   "cell_type": "code",
   "execution_count": 18,
   "metadata": {
    "collapsed": true
   },
   "outputs": [],
   "source": [
    "def whash_hdist(a1, a2):\n",
    "    a1 = [int(x) for x in str(a1).split(',') if x.strip().isdigit()]\n",
    "    a2 = [int(x) for x in str(a2).split(',') if x.strip().isdigit()]\n",
    "    flowdist_ = 99\n",
    "    if (len(a1) == 0) or (len(a2) == 0):\n",
    "        if debug: print(\"В одном из объявлений нет фото\\n\")\n",
    "        return flowdist_\n",
    "    \n",
    "    if debug: print(len(a1),a1)\n",
    "    for ar1 in a1:\n",
    "        if ar1 in image_whashes:\n",
    "            for ar2 in a2:\n",
    "                if ar2 in image_whashes:\n",
    "                    z = hDist(image_whashes[ar1], image_whashes[ar2])\n",
    "                    if z < flowdist_:\n",
    "                        flowdist_ = int(z)\n",
    "    return flowdist_\n",
    "whash_hdist_vectorized = np.vectorize(whash_hdist)"
   ]
  },
  {
   "cell_type": "code",
   "execution_count": 19,
   "metadata": {
    "collapsed": false
   },
   "outputs": [],
   "source": [
    "def has_similar_images(images_array_1, images_array_2):\n",
    "    if (images_array_1 == [\"\"]) or (images_array_2 == [\"\"]):\n",
    "        if debug: print(\"В одном из объявлений нет фото\\n\")\n",
    "        return False\n",
    "    \n",
    "    if debug: print(len(images_array_1), images_array_1)\n",
    "    if debug: print(len(images_array_2), images_array_2)\n",
    "    for image_1 in images_array_1:\n",
    "        if debug: print(\"\\nИмя 1: {}\".format(image_1))\n",
    "        matches_found = 0\n",
    "        for image_2 in images_array_2:\n",
    "            if debug: print(\"Имя 2: {}\".format(image_2))\n",
    "            if image_hashes[image_1] == image_hashes[image_2]:\n",
    "                matches_found += 1\n",
    "                if debug: print(\"Найдено совпадение хэшей\")\n",
    "                break\n",
    "        if matches_found != 0:\n",
    "            if debug: print(\"Хэши совпали\\n\")\n",
    "            return True\n",
    "\n",
    "    if debug: print(\"Хэши разные\\n\")\n",
    "    return False\n",
    "\n",
    "has_similar_images_vectorized = np.vectorize(has_similar_images)"
   ]
  },
  {
   "cell_type": "code",
   "execution_count": 20,
   "metadata": {
    "collapsed": true
   },
   "outputs": [],
   "source": [
    "def jaccard_hashes(images_array1, images_array2):\n",
    "    if (images_array1 == [\"\"]) or (images_array2 == [\"\"]):\n",
    "        return 0.0\n",
    "    \n",
    "    hashes_set1 = set([image_hashes[image_name] for image_name in images_array1])\n",
    "    hashes_set2 = set([image_hashes[image_name] for image_name in images_array2])\n",
    "    return jaccard_index(hashes_set1, hashes_set2)\n",
    "\n",
    "jaccard_hashes_vectorized = np.vectorize(jaccard_hashes)"
   ]
  },
  {
   "cell_type": "markdown",
   "metadata": {},
   "source": [
    "#### Генерируем признаки"
   ]
  },
  {
   "cell_type": "code",
   "execution_count": 21,
   "metadata": {
    "collapsed": false,
    "scrolled": true
   },
   "outputs": [
    {
     "name": "stdout",
     "output_type": "stream",
     "text": [
      "Extracting simple features...\n",
      "Extracting complex features...\n",
      "Finding presence of similar image hash...\n",
      "Calculating similarities for image hashes...\n",
      "Calculating hDist based on whashes...\n",
      "Calculating similarities for title...\n",
      "Calculating similarities for description...\n",
      "Calculating price relative difference...\n",
      "Calculating location distance...\n",
      "Calculating JSON values count for ID 1\n",
      "Calculating JSON values count for ID 2\n",
      "Calculating JSON values count equality\n",
      "Calculating similarities for attrsJSON...\n",
      "Deleting temporary data...\n",
      "Done\n",
      "Extracting simple features...\n",
      "Extracting complex features...\n",
      "Finding presence of similar image hash...\n",
      "Calculating similarities for image hashes...\n",
      "Calculating hDist based on whashes...\n",
      "Calculating similarities for title...\n",
      "Calculating similarities for description...\n",
      "Calculating price relative difference...\n",
      "Calculating location distance...\n",
      "Calculating JSON values count for ID 1\n",
      "Calculating JSON values count for ID 2\n",
      "Calculating JSON values count equality\n",
      "Calculating similarities for attrsJSON...\n",
      "Deleting temporary data...\n",
      "Done\n",
      "Feature extraction complete in 33461.15 seconds\n"
     ]
    }
   ],
   "source": [
    "start_time = time.time()\n",
    "for data in (train_data, test_data):\n",
    "#for data in [test_data]:\n",
    "    print(\"Extracting simple features...\")\n",
    "    data['categoryID_same'] = np.equal(data['categoryID_1'], data['categoryID_2']).astype(np.int32)\n",
    "    data['parentCategoryID_same'] = np.equal(data['parentCategoryID_1'], data['parentCategoryID_2']).astype(np.int32)\n",
    "    data['title_same'] = np.equal(data['title_1'], data['title_2']).astype(np.int32)\n",
    "    data['description_same'] = np.equal(data['description_1'], data['description_2']).astype(np.int32)\n",
    "    data['images_array_same'] = np.equal(data['images_array_1'], data['images_array_2']).astype(np.int32)\n",
    "    data['images_count_1'] = data[\"images_array_1\"].str.split(\", \").str.len().astype(np.int32)\n",
    "    data['images_count_2'] = data[\"images_array_2\"].str.split(\", \").str.len().astype(np.int32)\n",
    "    data['image_count_same'] = np.equal(data['images_count_1'], data['images_count_2']).astype(np.int32)\n",
    "    data['attrsJSON_same'] = np.equal(data['attrsJSON_1'], data['attrsJSON_2']).astype(np.int32)\n",
    "    data['locationID_same'] = np.equal(data['locationID_1'], data['locationID_2']).astype(np.int32)\n",
    "    data['regionID_same'] = np.equal(data['regionID_1'], data['regionID_2']).astype(np.int32)\n",
    "    \n",
    "    print(\"Extracting complex features...\")\n",
    "    print(\"Finding presence of similar image hash...\")\n",
    "    data[\"has_similar_image_hashes\"] = has_similar_images_vectorized(data[\"images_array_1\"].str.split(\", \"),\n",
    "                                                          data[\"images_array_2\"].str.split(\", \")).astype(np.int32)\n",
    "    print(\"Calculating similarities for image hashes...\")\n",
    "    data[\"jaccard_index_hashes\"] = jaccard_hashes_vectorized(data[\"images_array_1\"].str.split(\", \"),\n",
    "                                                          data[\"images_array_2\"].str.split(\", \"))\n",
    "    print(\"Calculating hDist based on whashes...\")\n",
    "    data[\"whashes_hdist\"] = whash_hdist_vectorized(data[\"images_array_1\"], data[\"images_array_2\"])\n",
    "    print(\"Calculating similarities for title...\")\n",
    "    data[\"jaccard_index_title\"] = jaccard_string_vectorized(data['title_1'], data['title_2'])\n",
    "    print(\"Calculating similarities for description...\")\n",
    "    data[\"jaccard_index_description\"] = jaccard_string_vectorized(data['description_1'], data['description_2'])\n",
    "    print(\"Calculating price relative difference...\")\n",
    "    data['price_relative_diff'] = np.divide(np.abs(data['price_1']-data['price_2']),\n",
    "                                            np.abs(data['price_1']) + np.abs(data['price_2'])\n",
    "                                           )\n",
    "    print(\"Calculating location distance...\")\n",
    "    data['location_distance'] = np.power(np.power(data['lon_1']-data['lon_2'], 2) + \\\n",
    "                                         np.power(data['lat_1']-data['lat_2'], 2), \\\n",
    "                                         0.5)\n",
    "    print(\"Calculating JSON values count for ID 1\")\n",
    "    data[\"JSON_values_count_1\"] = JSON_values_count_vectorized(data[\"attrsJSON_1\"])\n",
    "    print(\"Calculating JSON values count for ID 2\")\n",
    "    data[\"JSON_values_count_2\"] = JSON_values_count_vectorized(data[\"attrsJSON_2\"])\n",
    "    print(\"Calculating JSON values count equality\")\n",
    "    data[\"JSON_values_count_same\"] = np.equal(data[\"JSON_values_count_1\"], data[\"JSON_values_count_2\"]).astype(np.int32)\n",
    "    print(\"Calculating similarities for attrsJSON...\")\n",
    "    data[\"jaccard_index_attrsJSON\"] = jaccard_JSON_vectorized(data[\"attrsJSON_1\"], data[\"attrsJSON_2\"])\n",
    "    \n",
    "    print(\"Deleting temporary data...\")\n",
    "    data.drop([\n",
    "            'title_1',\n",
    "            'title_2',\n",
    "            'description_1',\n",
    "            'description_2',\n",
    "            'images_array_1',\n",
    "            'images_array_2',\n",
    "            'attrsJSON_1',\n",
    "            'attrsJSON_2'],\n",
    "              axis=1, inplace=True)\n",
    "    data.fillna(-1, inplace=True)\n",
    "    gc.collect()\n",
    "    print(\"Done\")\n",
    "\n",
    "print(\"Feature extraction complete in {} seconds\".format(round(time.time() - start_time, 2)))"
   ]
  },
  {
   "cell_type": "code",
   "execution_count": 222,
   "metadata": {
    "collapsed": true
   },
   "outputs": [],
   "source": [
    "need_replace = True\n",
    "FEATURES_TO_DROP = []"
   ]
  },
  {
   "cell_type": "code",
   "execution_count": 223,
   "metadata": {
    "collapsed": false
   },
   "outputs": [
    {
     "name": "stdout",
     "output_type": "stream",
     "text": [
      "Calculating hDist based on whashes...\n",
      "Done\n",
      "Calculating hDist based on whashes...\n",
      "Done\n",
      "Feature replacement complete in 386.55 seconds\n"
     ]
    }
   ],
   "source": [
    "start_time = time.time()\n",
    "if need_replace:\n",
    "    for data in (train_data, test_data):\n",
    "        #data.drop(FEATURES_TO_DROP, axis=1, inplace=True)\n",
    "        gc.collect()\n",
    "        print(\"Calculating hDist based on whashes...\")\n",
    "        data[\"whashes_hdist\"] = whash_hdist_vectorized(data[\"images_array_1\"], data[\"images_array_2\"])\n",
    "        print(\"Done\")\n",
    "need_replace = False\n",
    "print(\"Feature replacement complete in {} seconds\".format(round(time.time() - start_time, 2)))"
   ]
  },
  {
   "cell_type": "code",
   "execution_count": 4,
   "metadata": {
    "collapsed": false
   },
   "outputs": [
    {
     "name": "stdout",
     "output_type": "stream",
     "text": [
      "Data loading complete in 75.84 seconds\n"
     ]
    }
   ],
   "source": [
    "start_time = time.time()\n",
    "train_data = pd.read_csv(\"features train 2016-07-11 07-17.csv.bz2\", index_col=0)\n",
    "test_data = pd.read_csv(\"features test 2016-07-11 07-22.csv.bz2\", index_col=0)\n",
    "print(\"Data loading complete in {} seconds\".format(round(time.time() - start_time, 2)))"
   ]
  },
  {
   "cell_type": "code",
   "execution_count": 29,
   "metadata": {
    "collapsed": false
   },
   "outputs": [
    {
     "name": "stdout",
     "output_type": "stream",
     "text": [
      "['images_count_1', 'location_distance', 'lat_1', 'lon_1', 'lon_2', 'images_array_same', 'categoryID_2', 'lat_2', 'regionID_2', 'parentCategoryID_same', 'locationID_1', 'locationID_2', 'metroID_1', 'categoryID_same', 'JSON_values_count_1', 'jaccard_index_description', 'JSON_values_count_2', 'parentCategoryID_1', 'price_1', 'jaccard_index_hashes', 'whashes_hdist', 'image_count_same', 'images_count_2', 'description_same', 'regionID_same', 'locationID_same', 'JSON_values_count_same', 'price_relative_diff', 'attrsJSON_same', 'regionID_1', 'jaccard_index_title', 'categoryID_1', 'has_similar_image_hashes', 'price_2', 'metroID_2', 'jaccard_index_attrsJSON', 'parentCategoryID_2', 'title_same']\n"
     ]
    }
   ],
   "source": [
    "feature_names = list(\n",
    "    set(list(train_data.columns.values))\n",
    "  & set(list(test_data.columns.values))\n",
    ")\n",
    "feature_names.remove('itemID_1')\n",
    "feature_names.remove('itemID_2')\n",
    "#feature_names.remove('title_1')\n",
    "#feature_names.remove('title_2')\n",
    "#feature_names.remove('description_1')\n",
    "#feature_names.remove('description_2')\n",
    "#feature_names.remove('images_array_1')\n",
    "#feature_names.remove('images_array_2')\n",
    "#feature_names.remove('attrsJSON_1')\n",
    "#feature_names.remove('attrsJSON_2')\n",
    "print(feature_names)"
   ]
  },
  {
   "cell_type": "markdown",
   "metadata": {},
   "source": [
    "#### Выгружаем новые признаки в csv"
   ]
  },
  {
   "cell_type": "code",
   "execution_count": 49,
   "metadata": {
    "collapsed": false
   },
   "outputs": [
    {
     "name": "stdout",
     "output_type": "stream",
     "text": [
      "Feature saving complete in 387.66 seconds\n"
     ]
    }
   ],
   "source": [
    "start_time = time.time()\n",
    "train_data.to_csv(\n",
    "    \"features train \" + str(datetime.datetime.now().strftime(\"%Y-%m-%d %H-%M\")) + \".csv.bz2\",\n",
    "    columns=feature_names + [\"isDuplicate\"],\n",
    "    compression=\"bz2\"\n",
    ")\n",
    "test_data.to_csv(\n",
    "    \"features test \" + str(datetime.datetime.now().strftime(\"%Y-%m-%d %H-%M\")) + \".csv.bz2\",\n",
    "    columns=feature_names,\n",
    "    compression=\"bz2\"\n",
    ")\n",
    "print(\"Feature saving complete in {} seconds\".format(round(time.time() - start_time, 2)))"
   ]
  },
  {
   "cell_type": "markdown",
   "metadata": {},
   "source": [
    "### Обучаем модель"
   ]
  },
  {
   "cell_type": "code",
   "execution_count": 32,
   "metadata": {
    "collapsed": true
   },
   "outputs": [],
   "source": [
    "ETA = 0.1\n",
    "MAX_DEPTH = 6\n",
    "SUBSAMPLE = 0.8\n",
    "COLSAMPLE_BYTREE = 0.8\n",
    "\n",
    "TEST_SIZE = 0.1\n",
    "NUM_BOOST_ROUND = 750\n",
    "EARLY_STOPPING_ROUNDS = 10"
   ]
  },
  {
   "cell_type": "code",
   "execution_count": 33,
   "metadata": {
    "collapsed": false
   },
   "outputs": [
    {
     "name": "stderr",
     "output_type": "stream",
     "text": [
      "Will train until eval error hasn't decreased in 10 rounds.\n",
      "[0]\ttrain-auc:0.869125\teval-auc:0.868752\n",
      "[25]\ttrain-auc:0.922889\teval-auc:0.922587\n",
      "[50]\ttrain-auc:0.930187\teval-auc:0.929851\n",
      "[75]\ttrain-auc:0.933741\teval-auc:0.933323\n",
      "[100]\ttrain-auc:0.936346\teval-auc:0.935894\n",
      "[125]\ttrain-auc:0.937779\teval-auc:0.937274\n",
      "[150]\ttrain-auc:0.939250\teval-auc:0.938642\n",
      "[175]\ttrain-auc:0.940529\teval-auc:0.939849\n",
      "[200]\ttrain-auc:0.941408\teval-auc:0.940645\n",
      "[225]\ttrain-auc:0.942317\teval-auc:0.941459\n",
      "[250]\ttrain-auc:0.943128\teval-auc:0.942174\n",
      "[275]\ttrain-auc:0.943795\teval-auc:0.942774\n",
      "[300]\ttrain-auc:0.944462\teval-auc:0.943363\n",
      "[325]\ttrain-auc:0.945056\teval-auc:0.943871\n",
      "[350]\ttrain-auc:0.945522\teval-auc:0.944262\n",
      "[375]\ttrain-auc:0.945997\teval-auc:0.944669\n",
      "[400]\ttrain-auc:0.946512\teval-auc:0.945102\n",
      "[425]\ttrain-auc:0.946882\teval-auc:0.945397\n",
      "[450]\ttrain-auc:0.947283\teval-auc:0.945733\n",
      "[475]\ttrain-auc:0.947663\teval-auc:0.946036\n",
      "[500]\ttrain-auc:0.948106\teval-auc:0.946388\n",
      "[525]\ttrain-auc:0.948457\teval-auc:0.946657\n",
      "[550]\ttrain-auc:0.948780\teval-auc:0.946905\n",
      "[575]\ttrain-auc:0.949096\teval-auc:0.947141\n",
      "[600]\ttrain-auc:0.949473\teval-auc:0.947426\n",
      "[625]\ttrain-auc:0.949757\teval-auc:0.947635\n",
      "[650]\ttrain-auc:0.950073\teval-auc:0.947873\n",
      "[675]\ttrain-auc:0.950343\teval-auc:0.948062\n",
      "[700]\ttrain-auc:0.950624\teval-auc:0.948268\n",
      "[725]\ttrain-auc:0.950882\teval-auc:0.948448\n"
     ]
    },
    {
     "name": "stdout",
     "output_type": "stream",
     "text": [
      "Training time: 83.98 minutes\n"
     ]
    },
    {
     "name": "stderr",
     "output_type": "stream",
     "text": [
      "[749]\ttrain-auc:0.951125\teval-auc:0.948629\n"
     ]
    }
   ],
   "source": [
    "start_time = time.time()\n",
    "\n",
    "xgboost_params = {\n",
    "    \"objective\": \"binary:logistic\",\n",
    "    \"booster\" : \"gbtree\",\n",
    "    \"eval_metric\": \"auc\",\n",
    "    \"eta\": ETA,\n",
    "    \"max_depth\": MAX_DEPTH,\n",
    "    \"subsample\": SUBSAMPLE,\n",
    "    \"colsample_bytree\": COLSAMPLE_BYTREE,\n",
    "    \"silent\": 1,\n",
    "    \"seed\": RANDOM_STATE\n",
    "}\n",
    "\n",
    "splitted_train, splitted_test = train_test_split(train_data, test_size=TEST_SIZE, random_state=RANDOM_STATE)\n",
    "\n",
    "dtrain = xgb.DMatrix(splitted_train[feature_names], splitted_train[\"isDuplicate\"])\n",
    "dtest = xgb.DMatrix(splitted_test[feature_names], splitted_test[\"isDuplicate\"])\n",
    "\n",
    "watchlist = [(dtrain, 'train'),\n",
    "             (dtest, 'eval')]\n",
    "\n",
    "gbm = xgb.train(params=xgboost_params, \\\n",
    "             dtrain=dtrain, \\\n",
    "             num_boost_round=NUM_BOOST_ROUND, \\\n",
    "             evals=watchlist, \\\n",
    "             early_stopping_rounds=EARLY_STOPPING_ROUNDS, \\\n",
    "             verbose_eval=25)\n",
    "print('Training time: {} minutes'.format(round((time.time() - start_time)/60, 2)))"
   ]
  },
  {
   "cell_type": "markdown",
   "metadata": {},
   "source": [
    "### Работа с полученной моделью"
   ]
  },
  {
   "cell_type": "code",
   "execution_count": 34,
   "metadata": {
    "collapsed": false
   },
   "outputs": [],
   "source": [
    "gbm.save_model(\"xgboost model \" + str(datetime.datetime.now().strftime(\"%Y-%m-%d %H-%M\")) + \".xgb\")"
   ]
  },
  {
   "cell_type": "code",
   "execution_count": 35,
   "metadata": {
    "collapsed": false
   },
   "outputs": [
    {
     "data": {
      "text/plain": [
       "<matplotlib.axes._subplots.AxesSubplot at 0x12bbf5e10>"
      ]
     },
     "execution_count": 35,
     "metadata": {},
     "output_type": "execute_result"
    },
    {
     "data": {
      "image/png": "[encoded data removed]",
      "text/plain": [
       "<matplotlib.figure.Figure at 0x12bbf5710>"
      ]
     },
     "metadata": {},
     "output_type": "display_data"
    }
   ],
   "source": [
    "figure, axes = pyplot.subplots(figsize=(14,10))\n",
    "xgb.plot_importance(gbm, ax=axes, height=0.4)"
   ]
  },
  {
   "cell_type": "markdown",
   "metadata": {},
   "source": [
    "### Прогнозируем значения на тестовой выборке"
   ]
  },
  {
   "cell_type": "code",
   "execution_count": 36,
   "metadata": {
    "collapsed": false
   },
   "outputs": [],
   "source": [
    "test_predictions = gbm.predict(xgb.DMatrix(test_data[feature_names]), ntree_limit=gbm.best_ntree_limit).tolist()"
   ]
  },
  {
   "cell_type": "markdown",
   "metadata": {},
   "source": [
    "### Строим ансамбль"
   ]
  },
  {
   "cell_type": "code",
   "execution_count": 38,
   "metadata": {
    "collapsed": true
   },
   "outputs": [],
   "source": [
    "from sklearn import ensemble\n",
    "from sklearn.grid_search import GridSearchCV\n",
    "\n",
    "train = train_data[feature_names]\n",
    "test = test_data[feature_names]\n",
    "\n",
    "N_ESTIMATORS=35\n",
    "MAX_FEATURES=1.0\n",
    "etc = ensemble.ExtraTreesClassifier(n_estimators=N_ESTIMATORS,\n",
    "                                    max_depth=MAX_DEPTH,\n",
    "                                    max_features=MAX_FEATURES,\n",
    "                                    random_state=RANDOM_STATE,\n",
    "                                    criterion='entropy',\n",
    "                                    min_samples_split = 4, min_samples_leaf = 2, verbose = 0, n_jobs =-1)      \n",
    "etr = ensemble.ExtraTreesRegressor(n_estimators=N_ESTIMATORS,\n",
    "                                   max_depth=MAX_DEPTH,\n",
    "                                   max_features=MAX_FEATURES,\n",
    "                                   random_state=RANDOM_STATE,\n",
    "                                   min_samples_split= 4, min_samples_leaf= 2, verbose = 0, n_jobs =-1)      \n",
    "rfc = ensemble.RandomForestClassifier(n_estimators=N_ESTIMATORS,\n",
    "                                      max_depth=MAX_DEPTH,\n",
    "                                      max_features=MAX_FEATURES,\n",
    "                                      random_state=RANDOM_STATE,\n",
    "                                      criterion='entropy',\n",
    "                                      min_samples_split= 4, min_samples_leaf= 2, verbose = 0, n_jobs =-1)\n",
    "rfr = ensemble.RandomForestRegressor(n_estimators=N_ESTIMATORS,\n",
    "                                     max_depth=MAX_DEPTH,\n",
    "                                     max_features=MAX_FEATURES,\n",
    "                                     random_state=RANDOM_STATE,\n",
    "                                     min_samples_split= 4, min_samples_leaf= 2, verbose = 0, n_jobs =-1)\n",
    "xgr = xgb.XGBRegressor(n_estimators=N_ESTIMATORS,\n",
    "                       max_depth=MAX_DEPTH,\n",
    "                       seed=RANDOM_STATE,\n",
    "                       missing=np.nan,\n",
    "                       learning_rate=ETA,\n",
    "                       subsample=SUBSAMPLE,\n",
    "                       colsample_bytree=COLSAMPLE_BYTREE,\n",
    "                       objective='reg:linear')\n",
    "xgc = xgb.XGBClassifier(n_estimators=N_ESTIMATORS,\n",
    "                        max_depth=MAX_DEPTH,\n",
    "                        seed=RANDOM_STATE,\n",
    "                        missing=np.nan,\n",
    "                        learning_rate=ETA,\n",
    "                        subsample=SUBSAMPLE,\n",
    "                        colsample_bytree=COLSAMPLE_BYTREE,\n",
    "                        objective='binary:logistic')\n",
    "clf = {'xgr':xgr, 'xgc':xgc}\n",
    "\n",
    "id_results = pd.DataFrame(test_data[\"id\"].copy())"
   ]
  },
  {
   "cell_type": "code",
   "execution_count": 39,
   "metadata": {
    "collapsed": true
   },
   "outputs": [],
   "source": [
    "clf = {'xgr':xgr, 'xgc':xgc, 'etc':etc, 'etr':etr, 'rfc':rfc, 'rfr':rfr}"
   ]
  },
  {
   "cell_type": "code",
   "execution_count": 40,
   "metadata": {
    "collapsed": false
   },
   "outputs": [
    {
     "name": "stdout",
     "output_type": "stream",
     "text": [
      "Started training model:  rfr\n",
      "Ensemble Model:  rfr Best score:  0.90216085853 Minutes:  29.49\n",
      "Started training model:  etc\n",
      "Ensemble Model:  etc Best score:  0.901009109578 Minutes:  21.19\n",
      "Started training model:  etr\n",
      "Ensemble Model:  etr Best score:  0.899695806111 Minutes:  18.0\n",
      "Started training model:  rfc\n",
      "Ensemble Model:  rfc Best score:  0.900746899948 Minutes:  49.58\n",
      "Started training model:  xgr\n",
      "Ensemble Model:  xgr Best score:  0.925189051115 Minutes:  3.61\n",
      "Started training model:  xgc\n",
      "Ensemble Model:  xgc Best score:  0.924399813481 Minutes:  3.69\n"
     ]
    }
   ],
   "source": [
    "for c in clf:\n",
    "    print(\"Started training model: \", c)\n",
    "    y_pred=[]\n",
    "    best_score = 0.0\n",
    "    start_time = time.time()\n",
    "    if c[:2] != \"xg\": #not xgb\n",
    "        model = GridSearchCV(estimator=clf[c],\n",
    "                             param_grid={},\n",
    "                             n_jobs =-1,\n",
    "                             cv=5,\n",
    "                             verbose=0,\n",
    "                             scoring=\"roc_auc\")\n",
    "        model.fit(train, train_data['isDuplicate'].values)\n",
    "        if c[-1] != \"c\": #not classifier\n",
    "            best_score = model.best_score_\n",
    "            y_pred = model.predict(test)\n",
    "        else: #classifier\n",
    "            best_score = roc_auc_score(train_data['isDuplicate'].values, model.predict_proba(train)[:,1])\n",
    "            y_pred = model.predict_proba(test)[:,1]\n",
    "    else: #xgb\n",
    "        X_fit, X_eval, y_fit, y_eval= train_test_split(train,\n",
    "                                                       train_data['isDuplicate'],\n",
    "                                                       test_size=TEST_SIZE,\n",
    "                                                       random_state=RANDOM_STATE)\n",
    "        model = clf[c]\n",
    "        model.fit(X_fit,\n",
    "                  y_fit.values,\n",
    "                  early_stopping_rounds=EARLY_STOPPING_ROUNDS,\n",
    "                  eval_metric=\"auc\",\n",
    "                  eval_set=[(X_eval, y_eval)],\n",
    "                  verbose=0)\n",
    "        if c == \"xgr\": #xgb regressor\n",
    "            best_score = roc_auc_score(train_data['isDuplicate'].values, model.predict(train))\n",
    "            y_pred = model.predict(test)\n",
    "        else: #xgb classifier\n",
    "            best_score = roc_auc_score(train_data['isDuplicate'].values, model.predict_proba(train)[:,1])\n",
    "            y_pred = model.predict_proba(test)[:,1]\n",
    "    print(\"Ensemble Model: \", c,\n",
    "          \"Best score: \", best_score,\n",
    "          \"Minutes: \", round(((time.time() - start_time)/60),2))\n",
    "    y_pred = np.clip(y_pred, 0.0, 1.0)\n",
    "    id_results[c] = y_pred\n",
    "    gc.collect()"
   ]
  },
  {
   "cell_type": "code",
   "execution_count": 41,
   "metadata": {
    "collapsed": false
   },
   "outputs": [],
   "source": [
    "id_results['avg'] = id_results.drop('id', axis=1).apply(np.average, axis=1)\n",
    "ds = id_results[['id','avg']]\n",
    "ds.columns = ['id','probability']\n",
    "ds.to_csv(\"ensemble submission \" + str(datetime.datetime.now().strftime(\"%Y-%m-%d %H-%M\")) + \".csv\", index=False)"
   ]
  },
  {
   "cell_type": "markdown",
   "metadata": {},
   "source": [
    "### Выгружаем результаты"
   ]
  },
  {
   "cell_type": "code",
   "execution_count": 37,
   "metadata": {
    "collapsed": false
   },
   "outputs": [
    {
     "name": "stdout",
     "output_type": "stream",
     "text": [
      "Writing submission: submission 2016-07-12 04-42 scoring 0.948629.csv\n"
     ]
    }
   ],
   "source": [
    "submission_csv_name = 'submission ' + str(datetime.datetime.now().strftime(\"%Y-%m-%d %H-%M\")) + \" scoring \" + str(gbm.best_score) + '.csv'\n",
    "print(\"Writing submission:\", submission_csv_name)\n",
    "\n",
    "with open(submission_csv_name, 'w') as file:\n",
    "    file.write('id,probability\\n')\n",
    "    counter = 0\n",
    "    for pair_id in test_data['id']:\n",
    "        submission_item = str(pair_id) + \",\" + str(test_predictions[counter]) + \"\\n\"\n",
    "        counter += 1\n",
    "        file.write(submission_item)"
   ]
  },
  {
   "cell_type": "markdown",
   "metadata": {},
   "source": [
    "## Вспомогательные инструменты"
   ]
  },
  {
   "cell_type": "markdown",
   "metadata": {},
   "source": [
    "### Смотрим ошибки классификации"
   ]
  },
  {
   "cell_type": "code",
   "execution_count": 67,
   "metadata": {
    "collapsed": false
   },
   "outputs": [],
   "source": [
    "prediction_data = train_data[[\"itemID_1\", \"itemID_2\", \"generationMethod\",\"isDuplicate\"]].copy()\n",
    "prediction_data[\"prediction\"] = gbm.predict(xgb.DMatrix(train_data[feature_names]), ntree_limit=gbm.best_ntree_limit)\n",
    "prediction_data[\"error\"] = np.abs(prediction_data[\"isDuplicate\"] - prediction_data[\"prediction\"])"
   ]
  },
  {
   "cell_type": "code",
   "execution_count": 79,
   "metadata": {
    "collapsed": false
   },
   "outputs": [
    {
     "data": {
      "text/plain": [
       "1    2041604\n",
       "3     807878\n",
       "2     141914\n",
       "Name: generationMethod, dtype: int64"
      ]
     },
     "execution_count": 79,
     "metadata": {},
     "output_type": "execute_result"
    }
   ],
   "source": [
    "prediction_data[\"generationMethod\"].value_counts()"
   ]
  },
  {
   "cell_type": "code",
   "execution_count": 102,
   "metadata": {
    "collapsed": true
   },
   "outputs": [
    {
     "data": {
      "text/html": [
       "<div>\n",
       "<table border=\"1\" class=\"dataframe\">\n",
       "  <thead>\n",
       "    <tr style=\"text-align: right;\">\n",
       "      <th></th>\n",
       "      <th>itemID_1</th>\n",
       "      <th>itemID_2</th>\n",
       "      <th>generationMethod</th>\n",
       "      <th>isDuplicate</th>\n",
       "      <th>prediction</th>\n",
       "      <th>error</th>\n",
       "    </tr>\n",
       "  </thead>\n",
       "  <tbody>\n",
       "    <tr>\n",
       "      <th>403</th>\n",
       "      <td>72914</td>\n",
       "      <td>3039223</td>\n",
       "      <td>3</td>\n",
       "      <td>0</td>\n",
       "      <td>0.998818</td>\n",
       "      <td>0.998818</td>\n",
       "    </tr>\n",
       "    <tr>\n",
       "      <th>403</th>\n",
       "      <td>1303754</td>\n",
       "      <td>3039223</td>\n",
       "      <td>3</td>\n",
       "      <td>0</td>\n",
       "      <td>0.998653</td>\n",
       "      <td>0.998653</td>\n",
       "    </tr>\n",
       "    <tr>\n",
       "      <th>2536</th>\n",
       "      <td>5693996</td>\n",
       "      <td>6015459</td>\n",
       "      <td>3</td>\n",
       "      <td>1</td>\n",
       "      <td>0.001719</td>\n",
       "      <td>0.998281</td>\n",
       "    </tr>\n",
       "    <tr>\n",
       "      <th>1368</th>\n",
       "      <td>3381211</td>\n",
       "      <td>4626986</td>\n",
       "      <td>3</td>\n",
       "      <td>1</td>\n",
       "      <td>0.001756</td>\n",
       "      <td>0.998244</td>\n",
       "    </tr>\n",
       "    <tr>\n",
       "      <th>338</th>\n",
       "      <td>3219241</td>\n",
       "      <td>5648518</td>\n",
       "      <td>1</td>\n",
       "      <td>0</td>\n",
       "      <td>0.997751</td>\n",
       "      <td>0.997751</td>\n",
       "    </tr>\n",
       "    <tr>\n",
       "      <th>38</th>\n",
       "      <td>3952194</td>\n",
       "      <td>5244003</td>\n",
       "      <td>3</td>\n",
       "      <td>1</td>\n",
       "      <td>0.002458</td>\n",
       "      <td>0.997542</td>\n",
       "    </tr>\n",
       "    <tr>\n",
       "      <th>640</th>\n",
       "      <td>22346</td>\n",
       "      <td>2835102</td>\n",
       "      <td>1</td>\n",
       "      <td>0</td>\n",
       "      <td>0.997487</td>\n",
       "      <td>0.997487</td>\n",
       "    </tr>\n",
       "    <tr>\n",
       "      <th>1291</th>\n",
       "      <td>1121353</td>\n",
       "      <td>1133084</td>\n",
       "      <td>1</td>\n",
       "      <td>1</td>\n",
       "      <td>0.002619</td>\n",
       "      <td>0.997381</td>\n",
       "    </tr>\n",
       "    <tr>\n",
       "      <th>3318</th>\n",
       "      <td>1578169</td>\n",
       "      <td>5575967</td>\n",
       "      <td>1</td>\n",
       "      <td>0</td>\n",
       "      <td>0.997303</td>\n",
       "      <td>0.997303</td>\n",
       "    </tr>\n",
       "    <tr>\n",
       "      <th>3362</th>\n",
       "      <td>2813596</td>\n",
       "      <td>5707075</td>\n",
       "      <td>3</td>\n",
       "      <td>1</td>\n",
       "      <td>0.002758</td>\n",
       "      <td>0.997242</td>\n",
       "    </tr>\n",
       "  </tbody>\n",
       "</table>\n",
       "</div>"
      ],
      "text/plain": [
       "      itemID_1  itemID_2  generationMethod  isDuplicate  prediction     error\n",
       "403      72914   3039223                 3            0    0.998818  0.998818\n",
       "403    1303754   3039223                 3            0    0.998653  0.998653\n",
       "2536   5693996   6015459                 3            1    0.001719  0.998281\n",
       "1368   3381211   4626986                 3            1    0.001756  0.998244\n",
       "338    3219241   5648518                 1            0    0.997751  0.997751\n",
       "38     3952194   5244003                 3            1    0.002458  0.997542\n",
       "640      22346   2835102                 1            0    0.997487  0.997487\n",
       "1291   1121353   1133084                 1            1    0.002619  0.997381\n",
       "3318   1578169   5575967                 1            0    0.997303  0.997303\n",
       "3362   2813596   5707075                 3            1    0.002758  0.997242"
      ]
     },
     "execution_count": 102,
     "metadata": {},
     "output_type": "execute_result"
    }
   ],
   "source": [
    "prediction_data.sort_values(by=\"error\", ascending=False).iloc[:10,:]"
   ]
  },
  {
   "cell_type": "code",
   "execution_count": 136,
   "metadata": {
    "collapsed": true
   },
   "outputs": [
    {
     "data": {
      "text/html": [
       "<div>\n",
       "<table border=\"1\" class=\"dataframe\">\n",
       "  <thead>\n",
       "    <tr style=\"text-align: right;\">\n",
       "      <th></th>\n",
       "      <th>3362</th>\n",
       "    </tr>\n",
       "  </thead>\n",
       "  <tbody>\n",
       "    <tr>\n",
       "      <th>itemID_1</th>\n",
       "      <td>2813596</td>\n",
       "    </tr>\n",
       "    <tr>\n",
       "      <th>itemID_2</th>\n",
       "      <td>5707075</td>\n",
       "    </tr>\n",
       "    <tr>\n",
       "      <th>isDuplicate</th>\n",
       "      <td>1</td>\n",
       "    </tr>\n",
       "    <tr>\n",
       "      <th>generationMethod</th>\n",
       "      <td>3</td>\n",
       "    </tr>\n",
       "    <tr>\n",
       "      <th>categoryID_1</th>\n",
       "      <td>84</td>\n",
       "    </tr>\n",
       "    <tr>\n",
       "      <th>title_1</th>\n",
       "      <td>Samsynq 525</td>\n",
       "    </tr>\n",
       "    <tr>\n",
       "      <th>description_1</th>\n",
       "      <td>за все 1000 продам  на запчасти или обмен на т...</td>\n",
       "    </tr>\n",
       "    <tr>\n",
       "      <th>images_array_1</th>\n",
       "      <td>12689116, 14526615</td>\n",
       "    </tr>\n",
       "    <tr>\n",
       "      <th>attrsJSON_1</th>\n",
       "      <td>{\"Вид телефона\":\"iPhone\"}</td>\n",
       "    </tr>\n",
       "    <tr>\n",
       "      <th>price_1</th>\n",
       "      <td>1000</td>\n",
       "    </tr>\n",
       "    <tr>\n",
       "      <th>locationID_1</th>\n",
       "      <td>661950</td>\n",
       "    </tr>\n",
       "    <tr>\n",
       "      <th>metroID_1</th>\n",
       "      <td>-1</td>\n",
       "    </tr>\n",
       "    <tr>\n",
       "      <th>lat_1</th>\n",
       "      <td>52.0333</td>\n",
       "    </tr>\n",
       "    <tr>\n",
       "      <th>lon_1</th>\n",
       "      <td>113.501</td>\n",
       "    </tr>\n",
       "    <tr>\n",
       "      <th>parentCategoryID_1</th>\n",
       "      <td>6</td>\n",
       "    </tr>\n",
       "    <tr>\n",
       "      <th>regionID_1</th>\n",
       "      <td>661460</td>\n",
       "    </tr>\n",
       "    <tr>\n",
       "      <th>categoryID_2</th>\n",
       "      <td>84</td>\n",
       "    </tr>\n",
       "    <tr>\n",
       "      <th>title_2</th>\n",
       "      <td>Продам на запчасти</td>\n",
       "    </tr>\n",
       "    <tr>\n",
       "      <th>description_2</th>\n",
       "      <td>цена договорная !!! есть рабочие..писать тут  ...</td>\n",
       "    </tr>\n",
       "    <tr>\n",
       "      <th>images_array_2</th>\n",
       "      <td>12034863, 8116009, 8736885</td>\n",
       "    </tr>\n",
       "    <tr>\n",
       "      <th>attrsJSON_2</th>\n",
       "      <td>{\"Вид телефона\":\"Nokia\"}</td>\n",
       "    </tr>\n",
       "    <tr>\n",
       "      <th>price_2</th>\n",
       "      <td>150</td>\n",
       "    </tr>\n",
       "    <tr>\n",
       "      <th>locationID_2</th>\n",
       "      <td>661950</td>\n",
       "    </tr>\n",
       "    <tr>\n",
       "      <th>metroID_2</th>\n",
       "      <td>-1</td>\n",
       "    </tr>\n",
       "    <tr>\n",
       "      <th>lat_2</th>\n",
       "      <td>52.0333</td>\n",
       "    </tr>\n",
       "    <tr>\n",
       "      <th>lon_2</th>\n",
       "      <td>113.501</td>\n",
       "    </tr>\n",
       "    <tr>\n",
       "      <th>parentCategoryID_2</th>\n",
       "      <td>6</td>\n",
       "    </tr>\n",
       "    <tr>\n",
       "      <th>regionID_2</th>\n",
       "      <td>661460</td>\n",
       "    </tr>\n",
       "    <tr>\n",
       "      <th>categoryID_same</th>\n",
       "      <td>1</td>\n",
       "    </tr>\n",
       "    <tr>\n",
       "      <th>parentCategoryID_same</th>\n",
       "      <td>1</td>\n",
       "    </tr>\n",
       "    <tr>\n",
       "      <th>title_same</th>\n",
       "      <td>0</td>\n",
       "    </tr>\n",
       "    <tr>\n",
       "      <th>description_same</th>\n",
       "      <td>0</td>\n",
       "    </tr>\n",
       "    <tr>\n",
       "      <th>images_array_same</th>\n",
       "      <td>0</td>\n",
       "    </tr>\n",
       "    <tr>\n",
       "      <th>images_count_1</th>\n",
       "      <td>2</td>\n",
       "    </tr>\n",
       "    <tr>\n",
       "      <th>images_count_2</th>\n",
       "      <td>3</td>\n",
       "    </tr>\n",
       "    <tr>\n",
       "      <th>image_count_same</th>\n",
       "      <td>0</td>\n",
       "    </tr>\n",
       "    <tr>\n",
       "      <th>attrsJSON_same</th>\n",
       "      <td>0</td>\n",
       "    </tr>\n",
       "    <tr>\n",
       "      <th>price_same</th>\n",
       "      <td>0</td>\n",
       "    </tr>\n",
       "    <tr>\n",
       "      <th>locationID_same</th>\n",
       "      <td>1</td>\n",
       "    </tr>\n",
       "    <tr>\n",
       "      <th>regionID_same</th>\n",
       "      <td>1</td>\n",
       "    </tr>\n",
       "    <tr>\n",
       "      <th>has_similar_image_hashes</th>\n",
       "      <td>0</td>\n",
       "    </tr>\n",
       "    <tr>\n",
       "      <th>price_relative_diff</th>\n",
       "      <td>0.73913</td>\n",
       "    </tr>\n",
       "    <tr>\n",
       "      <th>location_distance</th>\n",
       "      <td>0</td>\n",
       "    </tr>\n",
       "    <tr>\n",
       "      <th>jaccard_index_title</th>\n",
       "      <td>0</td>\n",
       "    </tr>\n",
       "    <tr>\n",
       "      <th>jaccard_index_description</th>\n",
       "      <td>0</td>\n",
       "    </tr>\n",
       "  </tbody>\n",
       "</table>\n",
       "</div>"
      ],
      "text/plain": [
       "                                                                        3362\n",
       "itemID_1                                                             2813596\n",
       "itemID_2                                                             5707075\n",
       "isDuplicate                                                                1\n",
       "generationMethod                                                           3\n",
       "categoryID_1                                                              84\n",
       "title_1                                                          Samsynq 525\n",
       "description_1              за все 1000 продам  на запчасти или обмен на т...\n",
       "images_array_1                                            12689116, 14526615\n",
       "attrsJSON_1                                        {\"Вид телефона\":\"iPhone\"}\n",
       "price_1                                                                 1000\n",
       "locationID_1                                                          661950\n",
       "metroID_1                                                                 -1\n",
       "lat_1                                                                52.0333\n",
       "lon_1                                                                113.501\n",
       "parentCategoryID_1                                                         6\n",
       "regionID_1                                                            661460\n",
       "categoryID_2                                                              84\n",
       "title_2                                                   Продам на запчасти\n",
       "description_2              цена договорная !!! есть рабочие..писать тут  ...\n",
       "images_array_2                                    12034863, 8116009, 8736885\n",
       "attrsJSON_2                                         {\"Вид телефона\":\"Nokia\"}\n",
       "price_2                                                                  150\n",
       "locationID_2                                                          661950\n",
       "metroID_2                                                                 -1\n",
       "lat_2                                                                52.0333\n",
       "lon_2                                                                113.501\n",
       "parentCategoryID_2                                                         6\n",
       "regionID_2                                                            661460\n",
       "categoryID_same                                                            1\n",
       "parentCategoryID_same                                                      1\n",
       "title_same                                                                 0\n",
       "description_same                                                           0\n",
       "images_array_same                                                          0\n",
       "images_count_1                                                             2\n",
       "images_count_2                                                             3\n",
       "image_count_same                                                           0\n",
       "attrsJSON_same                                                             0\n",
       "price_same                                                                 0\n",
       "locationID_same                                                            1\n",
       "regionID_same                                                              1\n",
       "has_similar_image_hashes                                                   0\n",
       "price_relative_diff                                                  0.73913\n",
       "location_distance                                                          0\n",
       "jaccard_index_title                                                        0\n",
       "jaccard_index_description                                                  0"
      ]
     },
     "execution_count": 136,
     "metadata": {},
     "output_type": "execute_result"
    }
   ],
   "source": [
    "train_data.loc[(train_data[\"itemID_1\"] == 2813596) & (train_data[\"itemID_2\"] == 5707075),:].T"
   ]
  },
  {
   "cell_type": "code",
   "execution_count": 137,
   "metadata": {
    "collapsed": true
   },
   "outputs": [
    {
     "data": {
      "text/plain": [
       "[['за все 1000 продам  на запчасти или обмен на телефон мтс (4623040)',\n",
       "  'цена договорная !!! есть рабочие..писать тут  номер не доступен']]"
      ]
     },
     "execution_count": 137,
     "metadata": {},
     "output_type": "execute_result"
    }
   ],
   "source": [
    "train_data.loc[(train_data[\"itemID_1\"] == 2813596) & (train_data[\"itemID_2\"] == 5707075),[\"description_1\",\"description_2\"]].values.tolist()"
   ]
  },
  {
   "cell_type": "markdown",
   "metadata": {},
   "source": [
    "### Обсчитываем хеши для изображений"
   ]
  },
  {
   "cell_type": "code",
   "execution_count": 2,
   "metadata": {
    "collapsed": true
   },
   "outputs": [],
   "source": [
    "#http://blog.iconfinder.com/detecting-duplicate-images-using-python/\n",
    "import zipfile\n",
    "import io\n",
    "import datetime\n",
    "from PIL import Image\n",
    "from multiprocessing import Pool"
   ]
  },
  {
   "cell_type": "code",
   "execution_count": 76,
   "metadata": {
    "collapsed": false
   },
   "outputs": [],
   "source": [
    "def get_hashes_for_zip(zip_id):\n",
    "    img_file = zipfile.ZipFile(\"data\\Images_\" + str(zip_id) + \"\".zip\")\n",
    "    print (\"Processing Zip#\" + str(zip_id))\n",
    "    namelist = img_file.namelist()\n",
    "    #namelist = img_file.namelist()[:15]\n",
    "    \n",
    "    img_id_hashes = []\n",
    "    counter = 1\n",
    "    for name in namelist:\n",
    "        try:\n",
    "            img_data = img_file.read(name)\n",
    "            if len(img_data) > 0:\n",
    "                img_id = name[:-4]\n",
    "                img_hash = dhash(Image.open(io.BytesIO(img_data)))\n",
    "                img_id_hashes.append([img_id, img_hash])\n",
    "                counter += 1\n",
    "            if (counter % 10000) == 0:\n",
    "                print(datetime.date.strftime(datetime.datetime.now(),\"%X\"),\"Zip#\"+ str(zip_id) + \":\", \"{:.2f}\".format(counter/len(namelist)*100.0)  + \"% complete\")\n",
    "        except:\n",
    "            print(\"Read error in Zip#\" + str(zip_id), str(name))\n",
    "    df = pd.DataFrame(img_id_hashes, columns=[\"image_id\", \"image_hash\"])\n",
    "    df.to_csv(\"data\\image_hashes_\" + str(zip_id) + \".csv\")\n",
    "    print(\"Zip#\"+ str(zip_id) + \"finished\")"
   ]
  },
  {
   "cell_type": "code",
   "execution_count": 55,
   "metadata": {
    "collapsed": true
   },
   "outputs": [],
   "source": [
    "def dhash(image, hash_size = 32):\n",
    "    image = image.convert('LA').resize((hash_size+1, hash_size), Image.ANTIALIAS)\n",
    "    \n",
    "    difference = []\n",
    "    for row in range(hash_size):\n",
    "        for col in range(hash_size):\n",
    "            pixel_left = image.getpixel((col,row))\n",
    "            pixel_right = image.getpixel((col+1,row))\n",
    "            difference.append(pixel_left > pixel_right)\n",
    "    \n",
    "    decimal_value = 0\n",
    "    \n",
    "    hex_string = []\n",
    "    for index, value in enumerate(difference):\n",
    "        if value:\n",
    "            decimal_value += 2**(index % 8)\n",
    "        if (index % 8) == 7:\n",
    "            hex_string.append(hex(decimal_value)[2:].rjust(2,'0'))\n",
    "            decimal_value = 0\n",
    "    \n",
    "    return ''.join(hex_string)"
   ]
  },
  {
   "cell_type": "code",
   "execution_count": null,
   "metadata": {
    "collapsed": false
   },
   "outputs": [],
   "source": [
    "get_hashes_for_zip(5)\n",
    "\"\"\"import os\n",
    "import multiprocessing as mp\n",
    "if __name__ == '__main__':\n",
    "    pool = mp.Pool(processes=os.cpu_count()-1)\n",
    "    pool.map(get_hashes_for_zip, [zip_id for zip_id in range(4,6)])\n",
    "    pool.close()\n",
    "    pool.join()\"\"\""
   ]
  }
 ],
 "metadata": {
  "kernelspec": {
   "display_name": "Python 3",
   "language": "python",
   "name": "python3"
  },
  "language_info": {
   "codemirror_mode": {
    "name": "ipython",
    "version": 3
   },
   "file_extension": ".py",
   "mimetype": "text/x-python",
   "name": "python",
   "nbconvert_exporter": "python",
   "pygments_lexer": "ipython3",
   "version": "3.5.1"
  }
 },
 "nbformat": 4,
 "nbformat_minor": 0
}
